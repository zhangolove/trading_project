{
 "cells": [
  {
   "cell_type": "code",
   "execution_count": 13,
   "metadata": {},
   "outputs": [],
   "source": [
    "import pandas as pd\n",
    "from strategies import *\n",
    "\n",
    "%matplotlib inline"
   ]
  },
  {
   "cell_type": "code",
   "execution_count": 14,
   "metadata": {
    "collapsed": true
   },
   "outputs": [],
   "source": [
    "DATA_STORE = '../output/store.h5'"
   ]
  },
  {
   "cell_type": "code",
   "execution_count": 15,
   "metadata": {},
   "outputs": [
    {
     "name": "stdout",
     "output_type": "stream",
     "text": [
      "Available keys: ['/cu1703_20170103_20170106']\n"
     ]
    },
    {
     "data": {
      "text/html": [
       "<div>\n",
       "<style>\n",
       "    .dataframe thead tr:only-child th {\n",
       "        text-align: right;\n",
       "    }\n",
       "\n",
       "    .dataframe thead th {\n",
       "        text-align: left;\n",
       "    }\n",
       "\n",
       "    .dataframe tbody tr th {\n",
       "        vertical-align: top;\n",
       "    }\n",
       "</style>\n",
       "<table border=\"1\" class=\"dataframe\">\n",
       "  <thead>\n",
       "    <tr style=\"text-align: right;\">\n",
       "      <th></th>\n",
       "      <th>theDay</th>\n",
       "      <th>theTime</th>\n",
       "      <th>theMSecond</th>\n",
       "      <th>theBidPrice1</th>\n",
       "      <th>theBidVolume1</th>\n",
       "      <th>theAskPrice1</th>\n",
       "      <th>theAskVolume1</th>\n",
       "      <th>theLastPrice</th>\n",
       "      <th>theVolume</th>\n",
       "      <th>theAvgPrice</th>\n",
       "      <th>theTurnover</th>\n",
       "      <th>theMidPrice</th>\n",
       "      <th>theVWPrice</th>\n",
       "    </tr>\n",
       "    <tr>\n",
       "      <th>theAllTime</th>\n",
       "      <th></th>\n",
       "      <th></th>\n",
       "      <th></th>\n",
       "      <th></th>\n",
       "      <th></th>\n",
       "      <th></th>\n",
       "      <th></th>\n",
       "      <th></th>\n",
       "      <th></th>\n",
       "      <th></th>\n",
       "      <th></th>\n",
       "      <th></th>\n",
       "      <th></th>\n",
       "    </tr>\n",
       "  </thead>\n",
       "  <tbody>\n",
       "    <tr>\n",
       "      <th>2017-01-03 09:00:00.500</th>\n",
       "      <td>20170103</td>\n",
       "      <td>09:00:00</td>\n",
       "      <td>500</td>\n",
       "      <td>45700.0</td>\n",
       "      <td>770</td>\n",
       "      <td>45690.0</td>\n",
       "      <td>2</td>\n",
       "      <td>45700.0</td>\n",
       "      <td>9</td>\n",
       "      <td>228178.18</td>\n",
       "      <td>175697200.0</td>\n",
       "      <td>45695.0</td>\n",
       "      <td>45699.974093</td>\n",
       "    </tr>\n",
       "    <tr>\n",
       "      <th>2017-01-03 09:00:01.000</th>\n",
       "      <td>20170103</td>\n",
       "      <td>09:00:01</td>\n",
       "      <td>0</td>\n",
       "      <td>45750.0</td>\n",
       "      <td>866</td>\n",
       "      <td>45750.0</td>\n",
       "      <td>3</td>\n",
       "      <td>45780.0</td>\n",
       "      <td>2</td>\n",
       "      <td>228224.36</td>\n",
       "      <td>197642300.0</td>\n",
       "      <td>45750.0</td>\n",
       "      <td>45750.000000</td>\n",
       "    </tr>\n",
       "    <tr>\n",
       "      <th>2017-01-03 09:00:01.500</th>\n",
       "      <td>20170103</td>\n",
       "      <td>09:00:01</td>\n",
       "      <td>500</td>\n",
       "      <td>45720.0</td>\n",
       "      <td>1022</td>\n",
       "      <td>45710.0</td>\n",
       "      <td>6</td>\n",
       "      <td>45740.0</td>\n",
       "      <td>1</td>\n",
       "      <td>228293.64</td>\n",
       "      <td>233316100.0</td>\n",
       "      <td>45715.0</td>\n",
       "      <td>45719.941634</td>\n",
       "    </tr>\n",
       "    <tr>\n",
       "      <th>2017-01-03 09:00:02.000</th>\n",
       "      <td>20170103</td>\n",
       "      <td>09:00:02</td>\n",
       "      <td>0</td>\n",
       "      <td>45760.0</td>\n",
       "      <td>1168</td>\n",
       "      <td>45780.0</td>\n",
       "      <td>3</td>\n",
       "      <td>45820.0</td>\n",
       "      <td>7</td>\n",
       "      <td>228368.41</td>\n",
       "      <td>266734300.0</td>\n",
       "      <td>45770.0</td>\n",
       "      <td>45760.051238</td>\n",
       "    </tr>\n",
       "    <tr>\n",
       "      <th>2017-01-03 09:00:02.500</th>\n",
       "      <td>20170103</td>\n",
       "      <td>09:00:02</td>\n",
       "      <td>500</td>\n",
       "      <td>45780.0</td>\n",
       "      <td>1312</td>\n",
       "      <td>45780.0</td>\n",
       "      <td>2</td>\n",
       "      <td>45800.0</td>\n",
       "      <td>2</td>\n",
       "      <td>228436.89</td>\n",
       "      <td>299709200.0</td>\n",
       "      <td>45780.0</td>\n",
       "      <td>45780.000000</td>\n",
       "    </tr>\n",
       "  </tbody>\n",
       "</table>\n",
       "</div>"
      ],
      "text/plain": [
       "                           theDay   theTime  theMSecond  theBidPrice1  \\\n",
       "theAllTime                                                              \n",
       "2017-01-03 09:00:00.500  20170103  09:00:00         500       45700.0   \n",
       "2017-01-03 09:00:01.000  20170103  09:00:01           0       45750.0   \n",
       "2017-01-03 09:00:01.500  20170103  09:00:01         500       45720.0   \n",
       "2017-01-03 09:00:02.000  20170103  09:00:02           0       45760.0   \n",
       "2017-01-03 09:00:02.500  20170103  09:00:02         500       45780.0   \n",
       "\n",
       "                         theBidVolume1  theAskPrice1  theAskVolume1  \\\n",
       "theAllTime                                                            \n",
       "2017-01-03 09:00:00.500            770       45690.0              2   \n",
       "2017-01-03 09:00:01.000            866       45750.0              3   \n",
       "2017-01-03 09:00:01.500           1022       45710.0              6   \n",
       "2017-01-03 09:00:02.000           1168       45780.0              3   \n",
       "2017-01-03 09:00:02.500           1312       45780.0              2   \n",
       "\n",
       "                         theLastPrice  theVolume  theAvgPrice  theTurnover  \\\n",
       "theAllTime                                                                   \n",
       "2017-01-03 09:00:00.500       45700.0          9    228178.18  175697200.0   \n",
       "2017-01-03 09:00:01.000       45780.0          2    228224.36  197642300.0   \n",
       "2017-01-03 09:00:01.500       45740.0          1    228293.64  233316100.0   \n",
       "2017-01-03 09:00:02.000       45820.0          7    228368.41  266734300.0   \n",
       "2017-01-03 09:00:02.500       45800.0          2    228436.89  299709200.0   \n",
       "\n",
       "                         theMidPrice    theVWPrice  \n",
       "theAllTime                                          \n",
       "2017-01-03 09:00:00.500      45695.0  45699.974093  \n",
       "2017-01-03 09:00:01.000      45750.0  45750.000000  \n",
       "2017-01-03 09:00:01.500      45715.0  45719.941634  \n",
       "2017-01-03 09:00:02.000      45770.0  45760.051238  \n",
       "2017-01-03 09:00:02.500      45780.0  45780.000000  "
      ]
     },
     "execution_count": 15,
     "metadata": {},
     "output_type": "execute_result"
    }
   ],
   "source": [
    "store = pd.HDFStore(DATA_STORE)\n",
    "available_files = store.keys()\n",
    "print('Available keys: {}'.format(available_files))\n",
    "df = store[available_files[0]]\n",
    "df.head()"
   ]
  },
  {
   "cell_type": "code",
   "execution_count": 21,
   "metadata": {},
   "outputs": [
    {
     "data": {
      "text/plain": [
       "<matplotlib.axes._subplots.AxesSubplot at 0x11c9ac630>"
      ]
     },
     "execution_count": 21,
     "metadata": {},
     "output_type": "execute_result"
    },
    {
     "data": {
      "image/png": "[encoded data removed]",
      "text/plain": [
       "<matplotlib.figure.Figure at 0x115985c88>"
      ]
     },
     "metadata": {},
     "output_type": "display_data"
    }
   ],
   "source": [
    "df[['theVWPrice', 'theLastPrice']].plot()"
   ]
  },
  {
   "cell_type": "code",
   "execution_count": null,
   "metadata": {
    "collapsed": true
   },
   "outputs": [],
   "source": []
  }
 ],
 "metadata": {
  "kernelspec": {
   "display_name": "Python 3",
   "language": "python",
   "name": "python3"
  },
  "language_info": {
   "codemirror_mode": {
    "name": "ipython",
    "version": 3
   },
   "file_extension": ".py",
   "mimetype": "text/x-python",
   "name": "python",
   "nbconvert_exporter": "python",
   "pygments_lexer": "ipython3",
   "version": "3.6.2"
  }
 },
 "nbformat": 4,
 "nbformat_minor": 2
}
