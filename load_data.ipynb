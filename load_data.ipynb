{
 "cells": [
  {
   "cell_type": "code",
   "execution_count": 1,
   "metadata": {
    "collapsed": true
   },
   "outputs": [],
   "source": [
    "from datetime import datetime, time\n",
    "import numpy as np\n",
    "import os\n",
    "import pandas as pd"
   ]
  },
  {
   "cell_type": "code",
   "execution_count": 2,
   "metadata": {
    "collapsed": true
   },
   "outputs": [],
   "source": [
    "# Set some global parameters\n",
    "PATH = '.'\n",
    "FILE_NAME = 'data/j170520170103.csv'\n",
    "DATA_STORE = 'store.h5'\n"
   ]
  },
  {
   "cell_type": "markdown",
   "metadata": {},
   "source": [
    "## First, define some helper methods"
   ]
  },
  {
   "cell_type": "code",
   "execution_count": 3,
   "metadata": {
    "collapsed": true
   },
   "outputs": [],
   "source": [
    "def string_to_date(date_string):\n",
    "    return datetime.strptime(date_string, '%Y%m%d%H%M%S')\n",
    "\n",
    "def date_to_string(date):\n",
    "    return date.strftime('%Y%m%d')\n",
    "\n",
    "def calculate_stats(df):\n",
    "    df['theMidPrice'] = (df['theBidPrice1'] + df['theAskPrice1']) / 2.\n",
    "    df['theVWPrice'] = (df['theBidPrice1'] * df['theBidVolume1'] + df['theAskPrice1'] * df['theAskVolume1']) / (df['theBidVolume1'] + df['theAskVolume1'])\n",
    "    return df"
   ]
  },
  {
   "cell_type": "markdown",
   "metadata": {},
   "source": [
    "### Note that here I choose to use hd5f as the data store format instead of the .mat format\n",
    "\n",
    "HD5F has native support with both pandas and matlab, greater scalability and much higher performance than .mat format. A detailed discussion can be seen [here](https://web.archive.org/web/20151120080623/http://matthewrocklin.com/blog/work/2015/03/16/Fast-Serialization/).\n",
    "\n",
    "In addition, hd5f supports hierarchical data structure, which enables us to aggregate all the data ranging from all dates into one file instead of dispersing into different .mat file."
   ]
  },
  {
   "cell_type": "code",
   "execution_count": 4,
   "metadata": {
    "collapsed": true
   },
   "outputs": [],
   "source": [
    "def save_data_as_hd5(contract_name, begin_time, end_time, df):\n",
    "    filename = \"{}_{}_{}\".format(contract_name, begin_time, end_time)\n",
    "    store = pd.HDFStore(DATA_STORE)\n",
    "    store[filename] = df"
   ]
  },
  {
   "cell_type": "markdown",
   "metadata": {},
   "source": [
    "## Now we are going to load the data"
   ]
  },
  {
   "cell_type": "code",
   "execution_count": 5,
   "metadata": {
    "collapsed": true
   },
   "outputs": [],
   "source": [
    "def LoadData(dir_name, file_name, begin_time=None, end_time=None):\n",
    "    \"\"\"\n",
    "    Parameters\n",
    "    ----------\n",
    "    dir_name : directory path of the input file (string)\n",
    "    file_name : file name of the input file (string)\n",
    "    begin_time : in the format of yyyymmddhhmmss e.g., 20170103090000 (24-hour block)\n",
    "    end_time: in the format of yyyymmddhhmmss e.g., 20170103090000 \n",
    "    \n",
    "    Returns\n",
    "    -------\n",
    "    data : a pandas DataFrame object\n",
    "    \"\"\"\n",
    "    column_names = ['theDay','theTime','theMSecond','theBidPrice1','theBidVolume1','theAskPrice1','theAskVolume1','theLastPrice','theVolume',\n",
    "                   'theAvgPrice','theTurnover']\n",
    "    path = os.path.join(dir_name, file_name)\n",
    "    date_parser = lambda x: pd.datetime.strptime(x, '%Y%m%d %H:%M:%S %f')\n",
    "    usecols = [i for i in range(0, 12) if i != 1]\n",
    "    raw_data = pd.read_csv(path, names=column_names, usecols=usecols, index_col=False, parse_dates={'theAllTime': ['theDay','theTime','theMSecond']},keep_date_col=True, date_parser=date_parser)\n",
    "    data = calculate_stats(raw_data)\n",
    "    \n",
    "    begin_time = string_to_date(begin_time) if begin_time is not None else data.loc[data.index[0], 'theAllTime']\n",
    "    end_time = string_to_date(end_time) if end_time is not None else data.loc[data.index[-1], 'theAllTime']\n",
    "    \n",
    "    # we do not consider any data before 9:00\n",
    "    # TODO: Should we consider data after 15:00 ?\n",
    "    data.set_index('theAllTime', inplace=True)\n",
    "    date_filter = (data.index.hour >= 9) & (data.index >= begin_time) & (data.index <= end_time)\n",
    "    data = data.loc[date_filter]\n",
    "    #save_data_as_hd5(data.loc[data.index[0], 'contract'], date_to_string(begin_time), date_to_string(end_time), data)\n",
    "    return data\n",
    "    \n",
    "\n"
   ]
  },
  {
   "cell_type": "code",
   "execution_count": 6,
   "metadata": {
    "scrolled": true
   },
   "outputs": [
    {
     "data": {
      "text/html": [
       "<div>\n",
       "<style>\n",
       "    .dataframe thead tr:only-child th {\n",
       "        text-align: right;\n",
       "    }\n",
       "\n",
       "    .dataframe thead th {\n",
       "        text-align: left;\n",
       "    }\n",
       "\n",
       "    .dataframe tbody tr th {\n",
       "        vertical-align: top;\n",
       "    }\n",
       "</style>\n",
       "<table border=\"1\" class=\"dataframe\">\n",
       "  <thead>\n",
       "    <tr style=\"text-align: right;\">\n",
       "      <th></th>\n",
       "      <th>theDay</th>\n",
       "      <th>theTime</th>\n",
       "      <th>theMSecond</th>\n",
       "      <th>theBidPrice1</th>\n",
       "      <th>theBidVolume1</th>\n",
       "      <th>theAskPrice1</th>\n",
       "      <th>theAskVolume1</th>\n",
       "      <th>theLastPrice</th>\n",
       "      <th>theVolume</th>\n",
       "      <th>theAvgPrice</th>\n",
       "      <th>theTurnover</th>\n",
       "      <th>theMidPrice</th>\n",
       "      <th>theVWPrice</th>\n",
       "    </tr>\n",
       "    <tr>\n",
       "      <th>theAllTime</th>\n",
       "      <th></th>\n",
       "      <th></th>\n",
       "      <th></th>\n",
       "      <th></th>\n",
       "      <th></th>\n",
       "      <th></th>\n",
       "      <th></th>\n",
       "      <th></th>\n",
       "      <th></th>\n",
       "      <th></th>\n",
       "      <th></th>\n",
       "      <th></th>\n",
       "      <th></th>\n",
       "    </tr>\n",
       "  </thead>\n",
       "  <tbody>\n",
       "    <tr>\n",
       "      <th>2017-01-03 09:00:00.486</th>\n",
       "      <td>20170103</td>\n",
       "      <td>09:00:00</td>\n",
       "      <td>486</td>\n",
       "      <td>1519.0</td>\n",
       "      <td>126</td>\n",
       "      <td>1519.0</td>\n",
       "      <td>1</td>\n",
       "      <td>1520.0</td>\n",
       "      <td>4</td>\n",
       "      <td>151907.94</td>\n",
       "      <td>19140400.0</td>\n",
       "      <td>1519.00</td>\n",
       "      <td>1519.000000</td>\n",
       "    </tr>\n",
       "    <tr>\n",
       "      <th>2017-01-03 09:00:00.968</th>\n",
       "      <td>20170103</td>\n",
       "      <td>09:00:00</td>\n",
       "      <td>968</td>\n",
       "      <td>1518.5</td>\n",
       "      <td>188</td>\n",
       "      <td>1517.5</td>\n",
       "      <td>1</td>\n",
       "      <td>1518.5</td>\n",
       "      <td>10</td>\n",
       "      <td>151884.04</td>\n",
       "      <td>28554200.0</td>\n",
       "      <td>1518.00</td>\n",
       "      <td>1518.494709</td>\n",
       "    </tr>\n",
       "    <tr>\n",
       "      <th>2017-01-03 09:00:01.477</th>\n",
       "      <td>20170103</td>\n",
       "      <td>09:00:01</td>\n",
       "      <td>477</td>\n",
       "      <td>1518.0</td>\n",
       "      <td>236</td>\n",
       "      <td>1515.5</td>\n",
       "      <td>2</td>\n",
       "      <td>1516.5</td>\n",
       "      <td>1</td>\n",
       "      <td>151858.05</td>\n",
       "      <td>35838500.0</td>\n",
       "      <td>1516.75</td>\n",
       "      <td>1517.978992</td>\n",
       "    </tr>\n",
       "    <tr>\n",
       "      <th>2017-01-03 09:00:01.973</th>\n",
       "      <td>20170103</td>\n",
       "      <td>09:00:01</td>\n",
       "      <td>973</td>\n",
       "      <td>1517.0</td>\n",
       "      <td>306</td>\n",
       "      <td>1515.0</td>\n",
       "      <td>17</td>\n",
       "      <td>1517.0</td>\n",
       "      <td>4</td>\n",
       "      <td>151822.88</td>\n",
       "      <td>46457800.0</td>\n",
       "      <td>1516.00</td>\n",
       "      <td>1516.894737</td>\n",
       "    </tr>\n",
       "    <tr>\n",
       "      <th>2017-01-03 09:00:02.449</th>\n",
       "      <td>20170103</td>\n",
       "      <td>09:00:02</td>\n",
       "      <td>449</td>\n",
       "      <td>1517.5</td>\n",
       "      <td>414</td>\n",
       "      <td>1514.5</td>\n",
       "      <td>1</td>\n",
       "      <td>1516.5</td>\n",
       "      <td>1</td>\n",
       "      <td>151735.51</td>\n",
       "      <td>62818500.0</td>\n",
       "      <td>1516.00</td>\n",
       "      <td>1517.492771</td>\n",
       "    </tr>\n",
       "  </tbody>\n",
       "</table>\n",
       "</div>"
      ],
      "text/plain": [
       "                           theDay   theTime  theMSecond  theBidPrice1  \\\n",
       "theAllTime                                                              \n",
       "2017-01-03 09:00:00.486  20170103  09:00:00         486        1519.0   \n",
       "2017-01-03 09:00:00.968  20170103  09:00:00         968        1518.5   \n",
       "2017-01-03 09:00:01.477  20170103  09:00:01         477        1518.0   \n",
       "2017-01-03 09:00:01.973  20170103  09:00:01         973        1517.0   \n",
       "2017-01-03 09:00:02.449  20170103  09:00:02         449        1517.5   \n",
       "\n",
       "                         theBidVolume1  theAskPrice1  theAskVolume1  \\\n",
       "theAllTime                                                            \n",
       "2017-01-03 09:00:00.486            126        1519.0              1   \n",
       "2017-01-03 09:00:00.968            188        1517.5              1   \n",
       "2017-01-03 09:00:01.477            236        1515.5              2   \n",
       "2017-01-03 09:00:01.973            306        1515.0             17   \n",
       "2017-01-03 09:00:02.449            414        1514.5              1   \n",
       "\n",
       "                         theLastPrice  theVolume  theAvgPrice  theTurnover  \\\n",
       "theAllTime                                                                   \n",
       "2017-01-03 09:00:00.486        1520.0          4    151907.94   19140400.0   \n",
       "2017-01-03 09:00:00.968        1518.5         10    151884.04   28554200.0   \n",
       "2017-01-03 09:00:01.477        1516.5          1    151858.05   35838500.0   \n",
       "2017-01-03 09:00:01.973        1517.0          4    151822.88   46457800.0   \n",
       "2017-01-03 09:00:02.449        1516.5          1    151735.51   62818500.0   \n",
       "\n",
       "                         theMidPrice   theVWPrice  \n",
       "theAllTime                                         \n",
       "2017-01-03 09:00:00.486      1519.00  1519.000000  \n",
       "2017-01-03 09:00:00.968      1518.00  1518.494709  \n",
       "2017-01-03 09:00:01.477      1516.75  1517.978992  \n",
       "2017-01-03 09:00:01.973      1516.00  1516.894737  \n",
       "2017-01-03 09:00:02.449      1516.00  1517.492771  "
      ]
     },
     "execution_count": 6,
     "metadata": {},
     "output_type": "execute_result"
    }
   ],
   "source": [
    "df = LoadData(PATH, FILE_NAME)\n",
    "df.head()"
   ]
  },
  {
   "cell_type": "markdown",
   "metadata": {},
   "source": [
    "## Now Let's make sure we can recover the data from the storage file"
   ]
  },
  {
   "cell_type": "code",
   "execution_count": 7,
   "metadata": {},
   "outputs": [
    {
     "data": {
      "text/plain": [
       "[]"
      ]
     },
     "execution_count": 7,
     "metadata": {},
     "output_type": "execute_result"
    }
   ],
   "source": [
    "store = pd.HDFStore(DATA_STORE)\n",
    "store.keys()"
   ]
  },
  {
   "cell_type": "code",
   "execution_count": 8,
   "metadata": {},
   "outputs": [
    {
     "ename": "KeyError",
     "evalue": "'No object named j1705_20170103_20170103 in the file'",
     "output_type": "error",
     "traceback": [
      "\u001b[0;31m---------------------------------------------------------------------------\u001b[0m",
      "\u001b[0;31mKeyError\u001b[0m                                  Traceback (most recent call last)",
      "\u001b[0;32m<ipython-input-8-f41320fbae41>\u001b[0m in \u001b[0;36m<module>\u001b[0;34m()\u001b[0m\n\u001b[0;32m----> 1\u001b[0;31m \u001b[0mdf\u001b[0m \u001b[0;34m=\u001b[0m \u001b[0mstore\u001b[0m\u001b[0;34m[\u001b[0m\u001b[0;34m'j1705_20170103_20170103'\u001b[0m\u001b[0;34m]\u001b[0m\u001b[0;34m\u001b[0m\u001b[0m\n\u001b[0m\u001b[1;32m      2\u001b[0m \u001b[0mdf\u001b[0m\u001b[0;34m.\u001b[0m\u001b[0mhead\u001b[0m\u001b[0;34m(\u001b[0m\u001b[0;34m)\u001b[0m\u001b[0;34m\u001b[0m\u001b[0m\n",
      "\u001b[0;32m~/anaconda/envs/trading_research/lib/python3.6/site-packages/pandas/io/pytables.py\u001b[0m in \u001b[0;36m__getitem__\u001b[0;34m(self, key)\u001b[0m\n\u001b[1;32m    477\u001b[0m \u001b[0;34m\u001b[0m\u001b[0m\n\u001b[1;32m    478\u001b[0m     \u001b[0;32mdef\u001b[0m \u001b[0m__getitem__\u001b[0m\u001b[0;34m(\u001b[0m\u001b[0mself\u001b[0m\u001b[0;34m,\u001b[0m \u001b[0mkey\u001b[0m\u001b[0;34m)\u001b[0m\u001b[0;34m:\u001b[0m\u001b[0;34m\u001b[0m\u001b[0m\n\u001b[0;32m--> 479\u001b[0;31m         \u001b[0;32mreturn\u001b[0m \u001b[0mself\u001b[0m\u001b[0;34m.\u001b[0m\u001b[0mget\u001b[0m\u001b[0;34m(\u001b[0m\u001b[0mkey\u001b[0m\u001b[0;34m)\u001b[0m\u001b[0;34m\u001b[0m\u001b[0m\n\u001b[0m\u001b[1;32m    480\u001b[0m \u001b[0;34m\u001b[0m\u001b[0m\n\u001b[1;32m    481\u001b[0m     \u001b[0;32mdef\u001b[0m \u001b[0m__setitem__\u001b[0m\u001b[0;34m(\u001b[0m\u001b[0mself\u001b[0m\u001b[0;34m,\u001b[0m \u001b[0mkey\u001b[0m\u001b[0;34m,\u001b[0m \u001b[0mvalue\u001b[0m\u001b[0;34m)\u001b[0m\u001b[0;34m:\u001b[0m\u001b[0;34m\u001b[0m\u001b[0m\n",
      "\u001b[0;32m~/anaconda/envs/trading_research/lib/python3.6/site-packages/pandas/io/pytables.py\u001b[0m in \u001b[0;36mget\u001b[0;34m(self, key)\u001b[0m\n\u001b[1;32m    693\u001b[0m         \u001b[0mgroup\u001b[0m \u001b[0;34m=\u001b[0m \u001b[0mself\u001b[0m\u001b[0;34m.\u001b[0m\u001b[0mget_node\u001b[0m\u001b[0;34m(\u001b[0m\u001b[0mkey\u001b[0m\u001b[0;34m)\u001b[0m\u001b[0;34m\u001b[0m\u001b[0m\n\u001b[1;32m    694\u001b[0m         \u001b[0;32mif\u001b[0m \u001b[0mgroup\u001b[0m \u001b[0;32mis\u001b[0m \u001b[0;32mNone\u001b[0m\u001b[0;34m:\u001b[0m\u001b[0;34m\u001b[0m\u001b[0m\n\u001b[0;32m--> 695\u001b[0;31m             \u001b[0;32mraise\u001b[0m \u001b[0mKeyError\u001b[0m\u001b[0;34m(\u001b[0m\u001b[0;34m'No object named %s in the file'\u001b[0m \u001b[0;34m%\u001b[0m \u001b[0mkey\u001b[0m\u001b[0;34m)\u001b[0m\u001b[0;34m\u001b[0m\u001b[0m\n\u001b[0m\u001b[1;32m    696\u001b[0m         \u001b[0;32mreturn\u001b[0m \u001b[0mself\u001b[0m\u001b[0;34m.\u001b[0m\u001b[0m_read_group\u001b[0m\u001b[0;34m(\u001b[0m\u001b[0mgroup\u001b[0m\u001b[0;34m)\u001b[0m\u001b[0;34m\u001b[0m\u001b[0m\n\u001b[1;32m    697\u001b[0m \u001b[0;34m\u001b[0m\u001b[0m\n",
      "\u001b[0;31mKeyError\u001b[0m: 'No object named j1705_20170103_20170103 in the file'"
     ]
    }
   ],
   "source": [
    "df = store['j1705_20170103_20170103']\n",
    "df.head()"
   ]
  },
  {
   "cell_type": "code",
   "execution_count": null,
   "metadata": {
    "collapsed": true
   },
   "outputs": [],
   "source": []
  }
 ],
 "metadata": {
  "kernelspec": {
   "display_name": "Python 3",
   "language": "python",
   "name": "python3"
  },
  "language_info": {
   "codemirror_mode": {
    "name": "ipython",
    "version": 3
   },
   "file_extension": ".py",
   "mimetype": "text/x-python",
   "name": "python",
   "nbconvert_exporter": "python",
   "pygments_lexer": "ipython3",
   "version": "3.6.2"
  }
 },
 "nbformat": 4,
 "nbformat_minor": 2
}
